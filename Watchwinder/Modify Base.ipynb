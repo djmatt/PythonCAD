{
 "cells": [
  {
   "cell_type": "markdown",
   "metadata": {},
   "source": [
    "# Modify Base\n",
    "The purpose of this notebook is to take the existing base.stl from the watchwinder model (downloaded [from this Cults3d](https://cults3d.com/fr/mod%C3%A8le-3d/mode/gyro-winder-watch-winder-remontoir-montre) project). I want to add a hole to fit a 2.1mm power jack.  "
   ]
  },
  {
   "cell_type": "code",
   "execution_count": 1,
   "metadata": {},
   "outputs": [],
   "source": [
    "from solid import *\n",
    "from solid.utils import *\n",
    "import viewscad\n",
    "r = viewscad.Renderer(openscad_exec='C:\\Program Files\\OpenSCAD\\openscad.exe')\n",
    "\n",
    "rez = 100 #30 for lo-rez; 100 for finished product"
   ]
  },
  {
   "cell_type": "markdown",
   "metadata": {},
   "source": [
    "## The OG Base"
   ]
  },
  {
   "cell_type": "code",
   "execution_count": 2,
   "metadata": {},
   "outputs": [
    {
     "data": {
      "application/vnd.jupyter.widget-view+json": {
       "model_id": "e0eddd2c4e7849ce876dc2f09f8aa662",
       "version_major": 2,
       "version_minor": 0
      },
      "text/plain": [
       "VBox(children=(HTML(value=''), Renderer(background='#cccc88', background_opacity=0.0, camera=PerspectiveCamera…"
      ]
     },
     "metadata": {},
     "output_type": "display_data"
    }
   ],
   "source": [
    "base=import_stl('C:/Users/Matt/Documents/python/CAD/Watchwinder/Base.stl')\n",
    "r.render(base)"
   ]
  },
  {
   "cell_type": "markdown",
   "metadata": {},
   "source": [
    "## Block with hole\n",
    "Gonna try to create a block with a hole object"
   ]
  },
  {
   "cell_type": "code",
   "execution_count": 3,
   "metadata": {},
   "outputs": [
    {
     "data": {
      "application/vnd.jupyter.widget-view+json": {
       "model_id": "78e808c8be5b43c9ba128a325417b1fa",
       "version_major": 2,
       "version_minor": 0
      },
      "text/plain": [
       "VBox(children=(HTML(value=''), Renderer(background='#cccc88', background_opacity=0.0, camera=PerspectiveCamera…"
      ]
     },
     "metadata": {},
     "output_type": "display_data"
    }
   ],
   "source": [
    "#Basic measurements of the base\n",
    "baseHeight   = 25\n",
    "baseThick    = 4.3\n",
    "baseDiameter = 120\n",
    "\n",
    "#creating the block\n",
    "blockLen    = 6 #max 8mm\n",
    "blockHeight = baseHeight\n",
    "blockWidth  = 15 #larger than the hole diameter\n",
    "\n",
    "block = cube([blockWidth, blockLen, blockHeight], center=True)\n",
    "\n",
    "\n",
    "r.render(block)\n"
   ]
  },
  {
   "cell_type": "code",
   "execution_count": 4,
   "metadata": {},
   "outputs": [
    {
     "data": {
      "application/vnd.jupyter.widget-view+json": {
       "model_id": "0d8fa1d9ba3b46619ac855e4c1e6f596",
       "version_major": 2,
       "version_minor": 0
      },
      "text/plain": [
       "VBox(children=(HTML(value=''), Renderer(background='#cccc88', background_opacity=0.0, camera=PerspectiveCamera…"
      ]
     },
     "metadata": {},
     "output_type": "display_data"
    }
   ],
   "source": [
    "#measurement of the jack\n",
    "jackDiam = 13\n",
    "jackMaxDepth = 8\n",
    "\n",
    "jackhole = cylinder(h=jackMaxDepth, d=jackDiam, center=True, segments = rez)\n",
    "jackhole = rotate([90,0,0])(jackhole)\n",
    "\n",
    "r.render(jackhole)"
   ]
  },
  {
   "cell_type": "code",
   "execution_count": 5,
   "metadata": {},
   "outputs": [
    {
     "data": {
      "application/vnd.jupyter.widget-view+json": {
       "model_id": "7f4e08e3e3e245fabd47b56080dc6b29",
       "version_major": 2,
       "version_minor": 0
      },
      "text/plain": [
       "VBox(children=(HTML(value=''), Renderer(background='#cccc88', background_opacity=0.0, camera=PerspectiveCamera…"
      ]
     },
     "metadata": {},
     "output_type": "display_data"
    }
   ],
   "source": [
    "blockMount = block + hole()(jackhole)\n",
    "r.render(blockMount, outfile=\"blockmount.stl\")"
   ]
  },
  {
   "cell_type": "markdown",
   "metadata": {},
   "source": [
    "## Add mounting hole to the base object"
   ]
  },
  {
   "cell_type": "code",
   "execution_count": 6,
   "metadata": {
    "scrolled": false
   },
   "outputs": [
    {
     "data": {
      "application/vnd.jupyter.widget-view+json": {
       "model_id": "de7015ef37024fa9b327ffa7965a5761",
       "version_major": 2,
       "version_minor": 0
      },
      "text/plain": [
       "VBox(children=(HTML(value=''), Renderer(background='#cccc88', background_opacity=0.0, camera=PerspectiveCamera…"
      ]
     },
     "metadata": {},
     "output_type": "display_data"
    }
   ],
   "source": [
    "#moving the mounting point above the xy plane, in line with the imported stl model\n",
    "fixedMount = up(blockHeight/2)(blockMount)\n",
    "#the mounting point will be placed in the front slightly rotated off the y position\n",
    "rotation = -16\n",
    "dist = baseDiameter/2 - 3.29\n",
    "fixedMount = forward(dist)(fixedMount)\n",
    "fixedMount = rotate([0,0,rotation])(fixedMount)\n",
    "\n",
    "\n",
    "\n",
    "r.render(base + fixedMount, outfile=\"newBase.stl\")\n"
   ]
  },
  {
   "cell_type": "code",
   "execution_count": null,
   "metadata": {},
   "outputs": [],
   "source": []
  }
 ],
 "metadata": {
  "kernelspec": {
   "display_name": "Python 3",
   "language": "python",
   "name": "python3"
  },
  "language_info": {
   "codemirror_mode": {
    "name": "ipython",
    "version": 3
   },
   "file_extension": ".py",
   "mimetype": "text/x-python",
   "name": "python",
   "nbconvert_exporter": "python",
   "pygments_lexer": "ipython3",
   "version": "3.7.3"
  }
 },
 "nbformat": 4,
 "nbformat_minor": 2
}
