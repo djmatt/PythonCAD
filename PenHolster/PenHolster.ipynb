{
 "cells": [
  {
   "cell_type": "markdown",
   "metadata": {},
   "source": [
    "# Pen Holster\n",
    "I want a holster for the stylus that accompanies this product: https://www.amazon.com/gp/product/B01ICPGN46/ref=ppx_yo_dt_b_asin_title_o03_s00?ie=UTF8&psc=1\n",
    "\n",
    "I want the holster to be strongly magnetic, so as to be applied to fridges or doors."
   ]
  },
  {
   "cell_type": "code",
   "execution_count": 1,
   "metadata": {},
   "outputs": [],
   "source": [
    "from solid import *\n",
    "from solid.utils import *\n",
    "import viewscad\n",
    "r = viewscad.Renderer(openscad_exec='C:\\Program Files\\OpenSCAD\\openscad.exe')\n",
    "\n",
    "rez = 30 #30 for lo-rez; 100 for finished product"
   ]
  },
  {
   "cell_type": "markdown",
   "metadata": {},
   "source": [
    "## Stylus Model\n",
    "I think it would be good to work on making a model of the stylus itself.  Then the holster can be designed around it."
   ]
  },
  {
   "cell_type": "code",
   "execution_count": 2,
   "metadata": {},
   "outputs": [
    {
     "data": {
      "application/vnd.jupyter.widget-view+json": {
       "model_id": "7a2c2267b99f408c86f1f372b9a06727",
       "version_major": 2,
       "version_minor": 0
      },
      "text/plain": [
       "VBox(children=(HTML(value=''), Renderer(background='#cccc88', background_opacity=0.0, camera=PerspectiveCamera…"
      ]
     },
     "metadata": {},
     "output_type": "display_data"
    }
   ],
   "source": [
    "# basic shaft is a cylinder 123.4mm long, 9.1mm wide, 5.13mm thick\n",
    "def ellipticalCylinder(rx, ry, height, center = False):\n",
    "    return scale([1, ry/rx, 1])(cylinder(h=height, r=rx, center=center))\n",
    "\n",
    "shaft = ellipticalCylinder(rx=9.1/2, ry=5.13/2, height=123.4)\n",
    "r.render(shaft)"
   ]
  },
  {
   "cell_type": "code",
   "execution_count": 3,
   "metadata": {},
   "outputs": [
    {
     "data": {
      "application/vnd.jupyter.widget-view+json": {
       "model_id": "d0510377c2474371a7b13052c12b14be",
       "version_major": 2,
       "version_minor": 0
      },
      "text/plain": [
       "VBox(children=(HTML(value=''), Renderer(background='#cccc88', background_opacity=0.0, camera=PerspectiveCamera…"
      ]
     },
     "metadata": {},
     "output_type": "display_data"
    }
   ],
   "source": [
    "def cone(r1, r2, height, center=False):\n",
    "    return cylinder(h=height, r1 = r1, r2 = r2, center = center)\n",
    "\n",
    "def ellipticalCone(rx1,rx2,ry,height,center=False):\n",
    "    return scale([1,ry/rx2,1])(cone(r1=rx1, r2=rx2, height=height,center=center))\n",
    "\n",
    "tip = ellipticalCone(rx1=2/2,rx2=9.1/2,ry=5.13/2,height=15.5)\n",
    "pen = tip + up(15.5)(shaft)\n",
    "\n",
    "r.render(pen)"
   ]
  },
  {
   "cell_type": "markdown",
   "metadata": {},
   "source": [
    "## Holster\n",
    "I want the holster to essentially be a soft triagle with space in the center for the pen"
   ]
  },
  {
   "cell_type": "code",
   "execution_count": 4,
   "metadata": {},
   "outputs": [
    {
     "data": {
      "application/vnd.jupyter.widget-view+json": {
       "model_id": "4c553fadd3f34940a2a5b651de451fe6",
       "version_major": 2,
       "version_minor": 0
      },
      "text/plain": [
       "VBox(children=(HTML(value=''), Renderer(background='#cccc88', background_opacity=0.0, camera=PerspectiveCamera…"
      ]
     },
     "metadata": {},
     "output_type": "display_data"
    }
   ],
   "source": [
    "starter = hull()(sum(rotate([0,0,120*i])(right(2)(circle(4))) for i in range(3)))\n",
    "holster_block = linear_extrude(100,scale=1.5)(starter) \n",
    "r.render(holster_block)"
   ]
  },
  {
   "cell_type": "code",
   "execution_count": 5,
   "metadata": {},
   "outputs": [
    {
     "data": {
      "application/vnd.jupyter.widget-view+json": {
       "model_id": "9c87532a06d943cda163614d46ec7658",
       "version_major": 2,
       "version_minor": 0
      },
      "text/plain": [
       "VBox(children=(HTML(value=''), Renderer(background='#cccc88', background_opacity=0.0, camera=PerspectiveCamera…"
      ]
     },
     "metadata": {},
     "output_type": "display_data"
    },
    {
     "data": {
      "application/vnd.jupyter.widget-view+json": {
       "model_id": "861d2a70b7a7494e90e252d4ebf233ea",
       "version_major": 2,
       "version_minor": 0
      },
      "text/plain": [
       "VBox(children=(HTML(value=''), Renderer(background='#cccc88', background_opacity=0.0, camera=PerspectiveCamera…"
      ]
     },
     "metadata": {},
     "output_type": "display_data"
    }
   ],
   "source": [
    "pen_nullspace = hull()(sum(rotate([0,0,120*i])(rotate([0,1.2,0])(pen)) for i in range(3)))\n",
    "r.render(pen_nullspace)\n",
    "pen_nullspace = hole()(up(3)(pen_nullspace))\n",
    "holster = holster_block + pen_nullspace\n",
    "r.render(holster)"
   ]
  },
  {
   "cell_type": "code",
   "execution_count": 6,
   "metadata": {},
   "outputs": [
    {
     "data": {
      "application/vnd.jupyter.widget-view+json": {
       "model_id": "1d55f77fcf994cf891ebae3457c0076b",
       "version_major": 2,
       "version_minor": 0
      },
      "text/plain": [
       "VBox(children=(HTML(value=''), Renderer(background='#cccc88', background_opacity=0.0, camera=PerspectiveCamera…"
      ]
     },
     "metadata": {},
     "output_type": "display_data"
    }
   ],
   "source": [
    "def roundedBox(w,d,h,filletR=0.1,center=False):\n",
    "    pcloud  = translate([filletR, filletR, filletR])(sphere(filletR))\n",
    "    pcloud += translate([filletR, filletR, h-filletR])(sphere(filletR))\n",
    "    pcloud += translate([filletR, d-filletR, filletR])(sphere(filletR))\n",
    "    pcloud += translate([filletR, d-filletR, h-filletR])(sphere(filletR))\n",
    "    pcloud += translate([w-filletR, filletR, filletR])(sphere(filletR))\n",
    "    pcloud += translate([w-filletR, filletR, h-filletR])(sphere(filletR))\n",
    "    pcloud += translate([w-filletR, d-filletR, filletR])(sphere(filletR))\n",
    "    pcloud += translate([w-filletR, d-filletR, h-filletR])(sphere(filletR))\n",
    "    \n",
    "    box = hull()(pcloud)\n",
    "    \n",
    "    if center:\n",
    "        box = translate([-w/2,-d/2,-h/2])(box)\n",
    "    \n",
    "    return box\n",
    "\n",
    "r.render(roundedBox(1,1,1,center=False))\n"
   ]
  },
  {
   "cell_type": "code",
   "execution_count": 7,
   "metadata": {},
   "outputs": [
    {
     "data": {
      "application/vnd.jupyter.widget-view+json": {
       "model_id": "b80382a716df4e398b69cf45f7c3b6e9",
       "version_major": 2,
       "version_minor": 0
      },
      "text/plain": [
       "VBox(children=(HTML(value=''), Renderer(background='#cccc88', background_opacity=0.0, camera=PerspectiveCamera…"
      ]
     },
     "metadata": {},
     "output_type": "display_data"
    }
   ],
   "source": [
    "magnet_box = roundedBox(4,14,120,center=True)\n",
    "magnet_box = up(60)(left(7)(magnet_box))\n",
    "magnet_holster = hull()(magnet_box + holster_block) + pen_nullspace\n",
    "magnet_holster = rotate([0,0,-90])(up(9)(rotate([0,-90,0])(magnet_holster)))\n",
    "r.render(magnet_holster)"
   ]
  },
  {
   "cell_type": "code",
   "execution_count": 10,
   "metadata": {},
   "outputs": [],
   "source": [
    "def magnet():\n",
    "    mag_dia = 8 #mm\n",
    "    mag_h   = 3 #mm\n",
    "    xtra    = 0.4 #mm\n",
    "    s = (mag_dia+2*xtra)/mag_dia\n",
    "\n",
    "    mag = cylinder(d=mag_dia, h=mag_h)\n",
    "    mag = scale([s,s,1])(mag)\n",
    "    magnet = hole()(mag)\n",
    "    return magnet\n"
   ]
  },
  {
   "cell_type": "code",
   "execution_count": 11,
   "metadata": {},
   "outputs": [
    {
     "data": {
      "application/vnd.jupyter.widget-view+json": {
       "model_id": "846cfd11c1b0460f8a42314b3bfaf9fa",
       "version_major": 2,
       "version_minor": 0
      },
      "text/plain": [
       "VBox(children=(HTML(value=''), Renderer(background='#cccc88', background_opacity=0.0, camera=PerspectiveCamera…"
      ]
     },
     "metadata": {},
     "output_type": "display_data"
    }
   ],
   "source": [
    "mag1 = up(0.4)(forward(90)(magnet()))\n",
    "mag2 = up(0.4)(forward(10)(magnet()))\n",
    "final_holster = magnet_holster + mag1 + mag2\n",
    "r.render(final_holster, outfile=\"holster.stl\")"
   ]
  },
  {
   "cell_type": "code",
   "execution_count": null,
   "metadata": {},
   "outputs": [],
   "source": []
  }
 ],
 "metadata": {
  "kernelspec": {
   "display_name": "Python 3",
   "language": "python",
   "name": "python3"
  },
  "language_info": {
   "codemirror_mode": {
    "name": "ipython",
    "version": 3
   },
   "file_extension": ".py",
   "mimetype": "text/x-python",
   "name": "python",
   "nbconvert_exporter": "python",
   "pygments_lexer": "ipython3",
   "version": "3.7.3"
  }
 },
 "nbformat": 4,
 "nbformat_minor": 2
}
