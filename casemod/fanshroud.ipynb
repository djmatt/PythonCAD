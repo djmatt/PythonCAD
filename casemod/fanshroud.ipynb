{
 "cells": [
  {
   "cell_type": "code",
   "execution_count": 1,
   "metadata": {},
   "outputs": [],
   "source": [
    "from solid import *\n",
    "from solid.utils import *\n",
    "import viewscad\n",
    "r = viewscad.Renderer(openscad_exec='C:\\Program Files\\OpenSCAD\\openscad.exe')"
   ]
  },
  {
   "cell_type": "code",
   "execution_count": 2,
   "metadata": {},
   "outputs": [],
   "source": [
    "width = 129\n",
    "length = 123\n",
    "height = 15\n",
    "\n",
    "top_2_hook = 22\n",
    "\n",
    "hook_len = 9.9\n",
    "hook_width = 3\n",
    "hook_thick = 2.6\n",
    "\n",
    "hook_gap = 79.5 - hook_len\n",
    "\n",
    "\n",
    "snap_width = 6\n",
    "snap_len   = 9.9\n",
    "snap_thick = 10\n",
    "\n",
    "\n",
    "\n"
   ]
  },
  {
   "cell_type": "code",
   "execution_count": 3,
   "metadata": {},
   "outputs": [
    {
     "data": {
      "application/vnd.jupyter.widget-view+json": {
       "model_id": "937f01bc8ba342acbf039398d0d70d73",
       "version_major": 2,
       "version_minor": 0
      },
      "text/plain": [
       "VBox(children=(HTML(value=''), Renderer(background='#cccc88', background_opacity=0.0, camera=PerspectiveCamera…"
      ]
     },
     "metadata": {},
     "output_type": "display_data"
    }
   ],
   "source": [
    "base = square(size = [width, length], center = False)\n",
    "base -= forward(2.5)(right(2.5)(square(size = [width-5, length-5], center = False)))\n",
    "\n",
    "base = linear_extrude(height)(base)\n",
    "\n",
    "r.render(base)"
   ]
  },
  {
   "cell_type": "code",
   "execution_count": 4,
   "metadata": {},
   "outputs": [
    {
     "data": {
      "application/vnd.jupyter.widget-view+json": {
       "model_id": "f764721642eb4f138f2b9bdfc257cb08",
       "version_major": 2,
       "version_minor": 0
      },
      "text/plain": [
       "VBox(children=(HTML(value=''), Renderer(background='#cccc88', background_opacity=0.0, camera=PerspectiveCamera…"
      ]
     },
     "metadata": {},
     "output_type": "display_data"
    }
   ],
   "source": [
    "overhang = left(8)(back(1)(square(size=[width+16,length+2],center = False)))\n",
    "overhang -= forward(2.5)(right(2.5)(square(size = [width-5, length-5], center = False)))\n",
    "overhang = color(Green)(overhang)\n",
    "plate = linear_extrude(4)(overhang)\n",
    "plate = up(height)(plate)\n",
    "\n",
    "r.render(base+plate)\n",
    "\n"
   ]
  },
  {
   "cell_type": "code",
   "execution_count": 10,
   "metadata": {},
   "outputs": [
    {
     "data": {
      "application/vnd.jupyter.widget-view+json": {
       "model_id": "a9d807de5e50404687f0a7e1ca039498",
       "version_major": 2,
       "version_minor": 0
      },
      "text/plain": [
       "VBox(children=(HTML(value=''), Renderer(background='#cccc88', background_opacity=0.0, camera=PerspectiveCamera…"
      ]
     },
     "metadata": {},
     "output_type": "display_data"
    }
   ],
   "source": [
    "\n",
    "\n",
    "hook = cube([hook_width,hook_len,hook_thick],center=False)\n",
    "hook_locs = [(width-hook_width,top_2_hook,height),((width-hook_width,90,height))]\n",
    "\n",
    "snap = cube([snap_width,snap_len,snap_thick],center=False)\n",
    "snap_locs = [(5-snap_width,top_2_hook,height-5),((5-snap_width,90,height-5))]\n",
    "\n",
    "pbase = plate+base\n",
    "\n",
    "for loc in hook_locs:\n",
    "    pbase -= translate(loc)(hook)\n",
    "\n",
    "for loc in snap_locs:\n",
    "    pbase -= translate(loc)(snap)\n",
    "    \n",
    "r.render(pbase)"
   ]
  },
  {
   "cell_type": "code",
   "execution_count": 11,
   "metadata": {},
   "outputs": [
    {
     "name": "stdout",
     "output_type": "stream",
     "text": [
      "\n",
      "\n",
      "difference() {\n",
      "\tunion() {\n",
      "\t\ttranslate(v = [0, 0, 15]) {\n",
      "\t\t\tlinear_extrude(height = 4) {\n",
      "\t\t\t\tcolor(c = [0, 1, 0]) {\n",
      "\t\t\t\t\tdifference() {\n",
      "\t\t\t\t\t\ttranslate(v = [-8, 0, 0]) {\n",
      "\t\t\t\t\t\t\ttranslate(v = [0, -1, 0]) {\n",
      "\t\t\t\t\t\t\t\tsquare(center = false, size = [145, 125]);\n",
      "\t\t\t\t\t\t\t}\n",
      "\t\t\t\t\t\t}\n",
      "\t\t\t\t\t\ttranslate(v = [0, 2.5000000000, 0]) {\n",
      "\t\t\t\t\t\t\ttranslate(v = [2.5000000000, 0, 0]) {\n",
      "\t\t\t\t\t\t\t\tsquare(center = false, size = [124, 118]);\n",
      "\t\t\t\t\t\t\t}\n",
      "\t\t\t\t\t\t}\n",
      "\t\t\t\t\t}\n",
      "\t\t\t\t}\n",
      "\t\t\t}\n",
      "\t\t}\n",
      "\t\tlinear_extrude(height = 15) {\n",
      "\t\t\tdifference() {\n",
      "\t\t\t\tsquare(center = false, size = [129, 123]);\n",
      "\t\t\t\ttranslate(v = [0, 2.5000000000, 0]) {\n",
      "\t\t\t\t\ttranslate(v = [2.5000000000, 0, 0]) {\n",
      "\t\t\t\t\t\tsquare(center = false, size = [124, 118]);\n",
      "\t\t\t\t\t}\n",
      "\t\t\t\t}\n",
      "\t\t\t}\n",
      "\t\t}\n",
      "\t}\n",
      "\ttranslate(v = [126, 22, 15]) {\n",
      "\t\tcube(center = false, size = [3, 9.9000000000, 2.6000000000]);\n",
      "\t}\n",
      "\ttranslate(v = [126, 90, 15]) {\n",
      "\t\tcube(center = false, size = [3, 9.9000000000, 2.6000000000]);\n",
      "\t}\n",
      "\ttranslate(v = [-1, 22, 10]) {\n",
      "\t\tcube(center = false, size = [6, 9.9000000000, 10]);\n",
      "\t}\n",
      "\ttranslate(v = [-1, 90, 10]) {\n",
      "\t\tcube(center = false, size = [6, 9.9000000000, 10]);\n",
      "\t}\n",
      "}\n"
     ]
    }
   ],
   "source": [
    "print(scad_render(pbase))"
   ]
  }
 ],
 "metadata": {
  "kernelspec": {
   "display_name": "Python 3",
   "language": "python",
   "name": "python3"
  },
  "language_info": {
   "codemirror_mode": {
    "name": "ipython",
    "version": 3
   },
   "file_extension": ".py",
   "mimetype": "text/x-python",
   "name": "python",
   "nbconvert_exporter": "python",
   "pygments_lexer": "ipython3",
   "version": "3.7.3"
  }
 },
 "nbformat": 4,
 "nbformat_minor": 2
}
