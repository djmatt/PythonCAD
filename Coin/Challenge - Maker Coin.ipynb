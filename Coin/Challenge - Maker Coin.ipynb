{
 "cells": [
  {
   "cell_type": "markdown",
   "metadata": {},
   "source": [
    "# Maker Coin\n",
    "Maker Coins are fun little objects that are meant to be shared with other people. It's often the first project that a maker designs. They are most often 3D-Printed. This notebook shows my thought process in what I wanted to make and how it was created.\n",
    "## Goal\n",
    "I want to make a challenge coin where the base is a ringed planet and I attach my name or logo to the top of it."
   ]
  },
  {
   "cell_type": "code",
   "execution_count": 1,
   "metadata": {},
   "outputs": [],
   "source": [
    "from solid import *\n",
    "import viewscad\n",
    "r = viewscad.Renderer(openscad_exec='C:\\Program Files\\OpenSCAD\\openscad.exe')\n",
    "\n",
    "rez = 100 #30 for lo-rez; 100 for finished product"
   ]
  },
  {
   "cell_type": "markdown",
   "metadata": {},
   "source": [
    "# The Planet\n",
    "I want the planet to be at least 30mm wide, because the logo I will be using is almost 30mm wide.\n",
    "## A 3D planet"
   ]
  },
  {
   "cell_type": "code",
   "execution_count": 2,
   "metadata": {},
   "outputs": [
    {
     "data": {
      "application/vnd.jupyter.widget-view+json": {
       "model_id": "071be90bbbcd4bf1a62da1b1f027639e",
       "version_major": 2,
       "version_minor": 0
      },
      "text/plain": [
       "VBox(children=(HTML(value=''), Renderer(background='#cccc88', background_opacity=0.0, camera=PerspectiveCamera…"
      ]
     },
     "metadata": {},
     "output_type": "display_data"
    }
   ],
   "source": [
    "planet = sphere(r=35, segments = rez)\n",
    "r.render(planet)"
   ]
  },
  {
   "cell_type": "markdown",
   "metadata": {},
   "source": [
    "## A flattend planet\n",
    "The trick that I am using is OpenSCAD's projection command. What it creates is a flat object based on the \"shadow\" projected on to the XY plane."
   ]
  },
  {
   "cell_type": "code",
   "execution_count": 3,
   "metadata": {},
   "outputs": [
    {
     "data": {
      "application/vnd.jupyter.widget-view+json": {
       "model_id": "f09e5d0efa404edf8c8bdf3d5856be58",
       "version_major": 2,
       "version_minor": 0
      },
      "text/plain": [
       "VBox(children=(HTML(value=''), Renderer(background='#cccc88', background_opacity=0.0, camera=PerspectiveCamera…"
      ]
     },
     "metadata": {},
     "output_type": "display_data"
    }
   ],
   "source": [
    "flanet = translate([0,0,200])(planet)\n",
    "flanet = projection(cut=False)(flanet)\n",
    "flanet = linear_extrude(2)(flanet)\n",
    "r.render(flanet)"
   ]
  },
  {
   "cell_type": "markdown",
   "metadata": {},
   "source": [
    "# The Rings\n",
    "I want the rings to have a nice wide quality and swoop across the front of the planet in an interesting way.  First I will create and position the rings in 3D"
   ]
  },
  {
   "cell_type": "code",
   "execution_count": 4,
   "metadata": {},
   "outputs": [
    {
     "data": {
      "application/vnd.jupyter.widget-view+json": {
       "model_id": "09742f73737b4912a9f1e149456bcadf",
       "version_major": 2,
       "version_minor": 0
      },
      "text/plain": [
       "VBox(children=(HTML(value=''), Renderer(background='#cccc88', background_opacity=0.0, camera=PerspectiveCamera…"
      ]
     },
     "metadata": {},
     "output_type": "display_data"
    }
   ],
   "source": [
    "ring = cylinder(r=55, h=5, center=True, segments=rez)\n",
    "ring -= cylinder(r=40, h=5, center=True, segments=rez)\n",
    "r.render(ring)"
   ]
  },
  {
   "cell_type": "markdown",
   "metadata": {},
   "source": [
    "## 3D Ringed Planet"
   ]
  },
  {
   "cell_type": "code",
   "execution_count": 5,
   "metadata": {},
   "outputs": [
    {
     "data": {
      "application/vnd.jupyter.widget-view+json": {
       "model_id": "d19aec505aa94c04aa33295aa3dc7428",
       "version_major": 2,
       "version_minor": 0
      },
      "text/plain": [
       "VBox(children=(HTML(value=''), Renderer(background='#cccc88', background_opacity=0.0, camera=PerspectiveCamera…"
      ]
     },
     "metadata": {},
     "output_type": "display_data"
    }
   ],
   "source": [
    "r.render(planet + ring)"
   ]
  },
  {
   "cell_type": "markdown",
   "metadata": {},
   "source": [
    "## Rotating rings into position. \n",
    "A ring going across the equater isn't very intersting. Rotations can position the rings in a much more interesting way. Because we will project the ring to the XY plane, we're really just interested in how it looks from directly above."
   ]
  },
  {
   "cell_type": "code",
   "execution_count": 6,
   "metadata": {
    "scrolled": false
   },
   "outputs": [
    {
     "data": {
      "application/vnd.jupyter.widget-view+json": {
       "model_id": "4d62a739c42441cd9ee4f7f8c85dd952",
       "version_major": 2,
       "version_minor": 0
      },
      "text/plain": [
       "VBox(children=(HTML(value=''), Renderer(background='#cccc88', background_opacity=0.0, camera=PerspectiveCamera…"
      ]
     },
     "metadata": {},
     "output_type": "display_data"
    }
   ],
   "source": [
    "ring = rotate([30,0,-45])(ring)\n",
    "ring = rotate([-90,0,0])(ring)\n",
    "r.render(planet + ring)"
   ]
  },
  {
   "cell_type": "markdown",
   "metadata": {},
   "source": [
    "## Flattening the ring\n",
    "What I want to do is flatten the ring like the planet, but keep the effect of the ring circling around the planet. What I ended up doing is flattening the ring and tilting it slightly. However I need to keep the model above the XY plane, so I cut off any material below the XY plane after tilting the ring."
   ]
  },
  {
   "cell_type": "code",
   "execution_count": 7,
   "metadata": {
    "scrolled": false
   },
   "outputs": [
    {
     "data": {
      "application/vnd.jupyter.widget-view+json": {
       "model_id": "4a2ed0749c16437ea89f5da8ae94983d",
       "version_major": 2,
       "version_minor": 0
      },
      "text/plain": [
       "VBox(children=(HTML(value=''), Renderer(background='#cccc88', background_opacity=0.0, camera=PerspectiveCamera…"
      ]
     },
     "metadata": {},
     "output_type": "display_data"
    }
   ],
   "source": [
    "a_ring = projection(cut=False)(ring)\n",
    "a_ring = linear_extrude(15)(a_ring)\n",
    "a_ring = rotate([0,0,-22.5])(a_ring)\n",
    "a_ring = rotate([-5,0,-0])(a_ring)\n",
    "a_ring = translate([0,0,-13])(a_ring)\n",
    "a_ring = rotate([0,0,22.5])(a_ring)\n",
    "\n",
    "cutting_box = cube(200,center=True)\n",
    "cutting_box = translate([0,0,-100])(cutting_box)\n",
    "a_ring = a_ring - cutting_box\n",
    "\n",
    "r.render(a_ring)"
   ]
  },
  {
   "cell_type": "markdown",
   "metadata": {},
   "source": [
    "## The Coin!\n",
    "The render of the flat planet and rings looks pretty good!"
   ]
  },
  {
   "cell_type": "code",
   "execution_count": 8,
   "metadata": {},
   "outputs": [
    {
     "data": {
      "application/vnd.jupyter.widget-view+json": {
       "model_id": "2e56567c8015440cb6b1bcbed007cfe7",
       "version_major": 2,
       "version_minor": 0
      },
      "text/plain": [
       "VBox(children=(HTML(value=''), Renderer(background='#cccc88', background_opacity=0.0, camera=PerspectiveCamera…"
      ]
     },
     "metadata": {},
     "output_type": "display_data"
    }
   ],
   "source": [
    "r.render(flanet + a_ring)"
   ]
  },
  {
   "cell_type": "markdown",
   "metadata": {},
   "source": [
    "# Embellishments\n",
    "From the base coin we can add names, slogans or logos."
   ]
  },
  {
   "cell_type": "markdown",
   "metadata": {},
   "source": [
    "## Add Slogan\n",
    "Names and slogans are pretty easy to add. We can place text down and easily cut out the text from the planet."
   ]
  },
  {
   "cell_type": "code",
   "execution_count": 9,
   "metadata": {},
   "outputs": [
    {
     "data": {
      "application/vnd.jupyter.widget-view+json": {
       "model_id": "4bf2dadbc3be47e4a16d2ab3c8de2d02",
       "version_major": 2,
       "version_minor": 0
      },
      "text/plain": [
       "VBox(children=(HTML(value=''), Renderer(background='#cccc88', background_opacity=0.0, camera=PerspectiveCamera…"
      ]
     },
     "metadata": {},
     "output_type": "display_data"
    }
   ],
   "source": [
    "slogan = text(text='Sundiver', size=8, halign='center', valign='top')\n",
    "slogan = translate([0,20,0])(slogan)\n",
    "slogan = slogan + text(text=' ', size=15, halign='center',valign='top')\n",
    "slogan = linear_extrude(5)(slogan)\n",
    "slogan = translate([0,0,1])(slogan)\n",
    "coin = flanet - slogan + a_ring\n",
    "r.render(coin,outfile='SundiverCoin.stl')"
   ]
  },
  {
   "cell_type": "markdown",
   "metadata": {},
   "source": [
    "## Add Logo\n",
    "This logo was created in Inkscape. Creating a logo is another project altogether. To export it from Inkscape properly, it would need to be a single \"trace\" that was exported with the OpenSCAD export plugin to a DXF file. DXF files are only capable of being rendered as a flat object, not as a 3D object. The logo will either need to be cut into the planet or extruding from it. After a ton of trial-and-error I settled on a modified logo that extruded from the planet."
   ]
  },
  {
   "cell_type": "code",
   "execution_count": 10,
   "metadata": {},
   "outputs": [
    {
     "data": {
      "application/vnd.jupyter.widget-view+json": {
       "model_id": "7ca05bfa329e498dbb45b3be39755a2b",
       "version_major": 2,
       "version_minor": 0
      },
      "text/plain": [
       "VBox(children=(HTML(value=''), Renderer(background='#cccc88', background_opacity=0.0, camera=PerspectiveCamera…"
      ]
     },
     "metadata": {},
     "output_type": "display_data"
    }
   ],
   "source": [
    "logo = import_dxf(file=\"C:/Users/Matt/Documents/python/CAD/Coin/Dallmeyer2.dxf\",origin=[28.448,0])\n",
    "logo = linear_extrude(3)(logo)\n",
    "r.render(logo)"
   ]
  },
  {
   "cell_type": "markdown",
   "metadata": {},
   "source": [
    "## Finished Product"
   ]
  },
  {
   "cell_type": "code",
   "execution_count": 11,
   "metadata": {},
   "outputs": [
    {
     "data": {
      "application/vnd.jupyter.widget-view+json": {
       "model_id": "47cd9067a42f4a17b8b04099dea60fa1",
       "version_major": 2,
       "version_minor": 0
      },
      "text/plain": [
       "VBox(children=(HTML(value=''), Renderer(background='#cccc88', background_opacity=0.0, camera=PerspectiveCamera…"
      ]
     },
     "metadata": {},
     "output_type": "display_data"
    }
   ],
   "source": [
    "coin = flanet + logo + a_ring\n",
    "r.render(coin,outfile='SundiverCoin2.stl')\n"
   ]
  }
 ],
 "metadata": {
  "kernelspec": {
   "display_name": "Python 3",
   "language": "python",
   "name": "python3"
  },
  "language_info": {
   "codemirror_mode": {
    "name": "ipython",
    "version": 3
   },
   "file_extension": ".py",
   "mimetype": "text/x-python",
   "name": "python",
   "nbconvert_exporter": "python",
   "pygments_lexer": "ipython3",
   "version": "3.7.3"
  }
 },
 "nbformat": 4,
 "nbformat_minor": 2
}
