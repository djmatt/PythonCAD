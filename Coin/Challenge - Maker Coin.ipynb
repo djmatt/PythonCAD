{
 "cells": [
  {
   "cell_type": "markdown",
   "metadata": {},
   "source": [
    "# Maker Coin\n",
    "## Goal\n",
    "I want to make a challenge coin where the base is a ringed planet."
   ]
  },
  {
   "cell_type": "code",
   "execution_count": 1,
   "metadata": {},
   "outputs": [],
   "source": [
    "from solid import *\n",
    "import viewscad\n",
    "r = viewscad.Renderer(openscad_exec='C:\\Program Files\\OpenSCAD\\openscad.exe')\n",
    "\n",
    "rez = 100"
   ]
  },
  {
   "cell_type": "markdown",
   "metadata": {},
   "source": [
    "## Starting with the Rings\n",
    "I want to make a wide ring, maybe 20mm wide. I want the ring to reach 100mm around the planet, which places the inner distance at 80mm."
   ]
  },
  {
   "cell_type": "code",
   "execution_count": 2,
   "metadata": {},
   "outputs": [
    {
     "data": {
      "application/vnd.jupyter.widget-view+json": {
       "model_id": "dc0299dac35f47fca77a5b8db627444e",
       "version_major": 2,
       "version_minor": 0
      },
      "text/plain": [
       "VBox(children=(HTML(value=''), Renderer(background='#cccc88', background_opacity=0.0, camera=PerspectiveCamera…"
      ]
     },
     "metadata": {},
     "output_type": "display_data"
    }
   ],
   "source": [
    "ring = cylinder(r=55, h=5, center=True, segments=rez)\n",
    "ring -= cylinder(r=40, h=5, center=True, segments=rez)\n",
    "r.render(ring)\n"
   ]
  },
  {
   "cell_type": "markdown",
   "metadata": {},
   "source": [
    "## Rotating rings into position."
   ]
  },
  {
   "cell_type": "code",
   "execution_count": 3,
   "metadata": {
    "scrolled": false
   },
   "outputs": [
    {
     "data": {
      "application/vnd.jupyter.widget-view+json": {
       "model_id": "3dca7e6bd00b4113b7a32fc6c9ac240a",
       "version_major": 2,
       "version_minor": 0
      },
      "text/plain": [
       "VBox(children=(HTML(value=''), Renderer(background='#cccc88', background_opacity=0.0, camera=PerspectiveCamera…"
      ]
     },
     "metadata": {},
     "output_type": "display_data"
    }
   ],
   "source": [
    "ring = rotate([30,0,-45])(ring)\n",
    "ring = rotate([-90,0,0])(ring)\n",
    "r.render(ring)"
   ]
  },
  {
   "cell_type": "markdown",
   "metadata": {},
   "source": [
    "## A 3D ringed planet"
   ]
  },
  {
   "cell_type": "code",
   "execution_count": 4,
   "metadata": {},
   "outputs": [
    {
     "data": {
      "application/vnd.jupyter.widget-view+json": {
       "model_id": "65faed6d3c1d47ae980ed404dcb61efe",
       "version_major": 2,
       "version_minor": 0
      },
      "text/plain": [
       "VBox(children=(HTML(value=''), Renderer(background='#cccc88', background_opacity=0.0, camera=PerspectiveCamera…"
      ]
     },
     "metadata": {},
     "output_type": "display_data"
    }
   ],
   "source": [
    "planet = sphere(r=35, segments = rez)\n",
    "ringed_planet = planet + ring\n",
    "r.render(ringed_planet)"
   ]
  },
  {
   "cell_type": "markdown",
   "metadata": {},
   "source": [
    "## Flattening the planet\n",
    "I want to make the ringed planet a mostly flat image. Will also look at a 2 toned model where the ring extrudes a little bit higher and prints in another color.  There will essentially be 3 parts to the flattened image.  The bottom ring, or back ring. The top ring, or front ring. And the planet itself.  "
   ]
  },
  {
   "cell_type": "markdown",
   "metadata": {},
   "source": [
    "### The Bottom Ring"
   ]
  },
  {
   "cell_type": "code",
   "execution_count": 5,
   "metadata": {},
   "outputs": [
    {
     "data": {
      "application/vnd.jupyter.widget-view+json": {
       "model_id": "2d1a96b445ae4279ba2fcfa1aed7ba44",
       "version_major": 2,
       "version_minor": 0
      },
      "text/plain": [
       "VBox(children=(HTML(value=''), Renderer(background='#cccc88', background_opacity=0.0, camera=PerspectiveCamera…"
      ]
     },
     "metadata": {},
     "output_type": "display_data"
    }
   ],
   "source": [
    "cutting_box = cube(200,center=True)\n",
    "cutting_box = translate([0,0,100])(cutting_box)\n",
    "bottom_ring = ring - cutting_box\n",
    "bottom_ring = translate([0,0,200])(bottom_ring)\n",
    "bottom_ring = projection(cut=False)(bottom_ring)\n",
    "bottom_ring = linear_extrude(15)(bottom_ring)\n",
    "bottom_ring = rotate([0,0,-22.5])(bottom_ring)\n",
    "bottom_ring = rotate([-9,0,-0])(bottom_ring)\n",
    "bottom_ring = rotate([0,0,22.5])(bottom_ring)\n",
    "bottom_ring = translate([0,-2,-11])(bottom_ring)\n",
    "cutting_box = translate([0,0,-200])(cutting_box)\n",
    "bottom_ring = bottom_ring-cutting_box\n",
    "r.render(bottom_ring)\n",
    "\n",
    "\n"
   ]
  },
  {
   "cell_type": "markdown",
   "metadata": {},
   "source": [
    "### The Top Ring\n",
    "This ring Comes around the front of the planet"
   ]
  },
  {
   "cell_type": "code",
   "execution_count": 6,
   "metadata": {
    "scrolled": false
   },
   "outputs": [
    {
     "data": {
      "application/vnd.jupyter.widget-view+json": {
       "model_id": "2bafad4e26884ab09b28d97c5df443dc",
       "version_major": 2,
       "version_minor": 0
      },
      "text/plain": [
       "VBox(children=(HTML(value=''), Renderer(background='#cccc88', background_opacity=0.0, camera=PerspectiveCamera…"
      ]
     },
     "metadata": {},
     "output_type": "display_data"
    }
   ],
   "source": [
    "cutting_box = cube(200,center=True)\n",
    "cutting_box = translate([0,0,-100])(cutting_box)\n",
    "top_ring = ring - cutting_box\n",
    "\n",
    "top_ring = projection(cut=False)(top_ring)\n",
    "top_ring = linear_extrude(15)(top_ring)\n",
    "top_ring = rotate([0,0,-22.5])(top_ring)\n",
    "top_ring = rotate([-9,0,-0])(top_ring)\n",
    "top_ring = translate([0,-2,-11])(top_ring)\n",
    "top_ring = rotate([0,0,22.5])(top_ring)\n",
    "top_ring = top_ring - cutting_box\n",
    "r.render(top_ring)"
   ]
  },
  {
   "cell_type": "code",
   "execution_count": 7,
   "metadata": {
    "scrolled": false
   },
   "outputs": [
    {
     "data": {
      "application/vnd.jupyter.widget-view+json": {
       "model_id": "3dd938b3a86f46bebfc28a9eb7ae844f",
       "version_major": 2,
       "version_minor": 0
      },
      "text/plain": [
       "VBox(children=(HTML(value=''), Renderer(background='#cccc88', background_opacity=0.0, camera=PerspectiveCamera…"
      ]
     },
     "metadata": {},
     "output_type": "display_data"
    }
   ],
   "source": [
    "cutting_box = cube(200,center=True)\n",
    "cutting_box = translate([0,0,-100])(cutting_box)\n",
    "a_ring = projection(cut=False)(ring)\n",
    "a_ring = linear_extrude(15)(a_ring)\n",
    "a_ring = rotate([0,0,-22.5])(a_ring)\n",
    "a_ring = rotate([-5,0,-0])(a_ring)\n",
    "a_ring = translate([0,0,-13])(a_ring)\n",
    "a_ring = rotate([0,0,22.5])(a_ring)\n",
    "a_ring = a_ring - cutting_box\n",
    "r.render(a_ring)"
   ]
  },
  {
   "cell_type": "markdown",
   "metadata": {},
   "source": [
    "### The planet"
   ]
  },
  {
   "cell_type": "code",
   "execution_count": 8,
   "metadata": {},
   "outputs": [
    {
     "data": {
      "application/vnd.jupyter.widget-view+json": {
       "model_id": "3cc94fcbf2af4daeb532655b8c469491",
       "version_major": 2,
       "version_minor": 0
      },
      "text/plain": [
       "VBox(children=(HTML(value=''), Renderer(background='#cccc88', background_opacity=0.0, camera=PerspectiveCamera…"
      ]
     },
     "metadata": {},
     "output_type": "display_data"
    }
   ],
   "source": [
    "flanet = translate([0,0,200])(planet)\n",
    "flanet = projection(cut=False)(flanet)\n",
    "flanet = linear_extrude(2)(flanet)\n",
    "ringed_planet = flanet + a_ring\n",
    "r.render(ringed_planet)"
   ]
  },
  {
   "cell_type": "markdown",
   "metadata": {},
   "source": [
    "## Add Slogan"
   ]
  },
  {
   "cell_type": "code",
   "execution_count": 9,
   "metadata": {},
   "outputs": [
    {
     "data": {
      "application/vnd.jupyter.widget-view+json": {
       "model_id": "86ea4572e7d847bf9dddcfe482005679",
       "version_major": 2,
       "version_minor": 0
      },
      "text/plain": [
       "VBox(children=(HTML(value=''), Renderer(background='#cccc88', background_opacity=0.0, camera=PerspectiveCamera…"
      ]
     },
     "metadata": {},
     "output_type": "display_data"
    }
   ],
   "source": [
    "slogan = text(text='Sundiver', size=8, halign='center', valign='top')\n",
    "slogan = translate([0,20,0])(slogan)\n",
    "slogan = slogan + text(text=' ', size=15, halign='center',valign='top')\n",
    "# slogan = rotate([0,0,22.5])(slogan)\n",
    "slogan = linear_extrude(5)(slogan)\n",
    "slogan = translate([0,0,2])(slogan)\n",
    "coin = ringed_planet - slogan\n",
    "r.render(coin,outfile='SundiverCoin.stl')"
   ]
  },
  {
   "cell_type": "markdown",
   "metadata": {},
   "source": [
    "## Add Logo"
   ]
  },
  {
   "cell_type": "code",
   "execution_count": 10,
   "metadata": {},
   "outputs": [
    {
     "data": {
      "application/vnd.jupyter.widget-view+json": {
       "model_id": "f2d52c0da3044e19a794673b9629bde4",
       "version_major": 2,
       "version_minor": 0
      },
      "text/plain": [
       "VBox(children=(HTML(value=''), Renderer(background='#cccc88', background_opacity=0.0, camera=PerspectiveCamera…"
      ]
     },
     "metadata": {},
     "output_type": "display_data"
    }
   ],
   "source": [
    "logo = import_dxf(file=\"C:/Users/Matt/Documents/python/CAD/Coin/Dallmeyer2.dxf\",origin=[28.448,0])\n",
    "logo = linear_extrude(2.6)(logo)\n",
    "coin = flanet + logo + a_ring\n",
    "r.render(coin,outfile='SundiverCoin2.stl')\n"
   ]
  },
  {
   "cell_type": "code",
   "execution_count": null,
   "metadata": {},
   "outputs": [],
   "source": []
  }
 ],
 "metadata": {
  "kernelspec": {
   "display_name": "Python 3",
   "language": "python",
   "name": "python3"
  },
  "language_info": {
   "codemirror_mode": {
    "name": "ipython",
    "version": 3
   },
   "file_extension": ".py",
   "mimetype": "text/x-python",
   "name": "python",
   "nbconvert_exporter": "python",
   "pygments_lexer": "ipython3",
   "version": "3.7.3"
  }
 },
 "nbformat": 4,
 "nbformat_minor": 2
}
