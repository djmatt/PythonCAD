{
 "cells": [
  {
   "cell_type": "markdown",
   "metadata": {},
   "source": [
    "# Magnetic Picture Frame\n",
    "## Goals\n",
    " * Embedded magnets\n",
    " * Parameterizable frame size\n",
    " * Decorative frames\n",
    " \n",
    "## Embedding Magnets\n",
    "I don't know how to embed magnets into the design. So here is my plan:\n",
    " * Get the size of the magnets I bought\n",
    " * Create a hole object for the magnet + extra space\n",
    " * Create a test block to embed the object \n",
    "\n",
    "### Creating the magnet hole object\n",
    " * I ordered these magnets from Amazon\n",
    "  * https://www.amazon.com/gp/product/B01MZ6EJE2/ref=ppx_yo_dt_b_search_asin_title?ie=UTF8&psc=1\n",
    " * The dimensions are listed 8x3mm\n",
    "  * 8mm diamter I believe\n",
    "  * 3mm height"
   ]
  },
  {
   "cell_type": "code",
   "execution_count": 1,
   "metadata": {},
   "outputs": [],
   "source": [
    "from solid import *\n",
    "from solid.utils import *\n",
    "import viewscad\n",
    "r = viewscad.Renderer(openscad_exec='C:\\Program Files\\OpenSCAD\\openscad.exe')\n",
    "\n",
    "rez = 30 #30 for lo-rez; 100 for finished product"
   ]
  },
  {
   "cell_type": "code",
   "execution_count": 4,
   "metadata": {},
   "outputs": [
    {
     "data": {
      "application/vnd.jupyter.widget-view+json": {
       "model_id": "74d34886d2a94526ae20c07d15a8c4c5",
       "version_major": 2,
       "version_minor": 0
      },
      "text/plain": [
       "VBox(children=(HTML(value=''), Renderer(background='#cccc88', background_opacity=0.0, camera=PerspectiveCamera…"
      ]
     },
     "metadata": {},
     "output_type": "display_data"
    }
   ],
   "source": [
    "mag_dia = 8 #mm\n",
    "mag_h   = 3 #mm\n",
    "xtra    = 0.4 #mm\n",
    "s = (mag_dia+2*xtra)/mag_dia\n",
    "\n",
    "magnet = cylinder(d=mag_dia, h=mag_h, segments = rez)\n",
    "magnet = scale([s,s,1])(magnet)\n",
    "r.render(magnet)\n",
    "magnet = hole()(magnet)"
   ]
  },
  {
   "cell_type": "code",
   "execution_count": 5,
   "metadata": {},
   "outputs": [
    {
     "data": {
      "application/vnd.jupyter.widget-view+json": {
       "model_id": "0c4f2a1f67284779bb13b9b0265db770",
       "version_major": 2,
       "version_minor": 0
      },
      "text/plain": [
       "VBox(children=(HTML(value=''), Renderer(background='#cccc88', background_opacity=0.0, camera=PerspectiveCamera…"
      ]
     },
     "metadata": {},
     "output_type": "display_data"
    }
   ],
   "source": [
    "block = cube([10,10,6],center=True)\n",
    "block = up(3)(block)\n",
    "\n",
    "magBlock = block + up(0.4)(magnet)\n",
    "r.render(magBlock, outfile=\"magtest.stl\")\n",
    "#print(scad_render(magBlock))"
   ]
  },
  {
   "cell_type": "markdown",
   "metadata": {},
   "source": [
    "## The Frame\n",
    "The frame should be able hold a specified picture size.  The picture will have a space for a few layers, then the frame will overlap the picture by a few mm."
   ]
  },
  {
   "cell_type": "code",
   "execution_count": null,
   "metadata": {},
   "outputs": [],
   "source": []
  }
 ],
 "metadata": {
  "kernelspec": {
   "display_name": "Python 3",
   "language": "python",
   "name": "python3"
  },
  "language_info": {
   "codemirror_mode": {
    "name": "ipython",
    "version": 3
   },
   "file_extension": ".py",
   "mimetype": "text/x-python",
   "name": "python",
   "nbconvert_exporter": "python",
   "pygments_lexer": "ipython3",
   "version": "3.7.3"
  }
 },
 "nbformat": 4,
 "nbformat_minor": 2
}
